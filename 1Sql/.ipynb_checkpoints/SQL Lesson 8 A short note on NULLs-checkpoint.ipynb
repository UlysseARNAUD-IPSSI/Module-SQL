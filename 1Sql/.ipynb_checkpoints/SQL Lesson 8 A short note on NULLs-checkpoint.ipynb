{
 "cells": [
  {
   "cell_type": "markdown",
   "metadata": {},
   "source": [
    "# SQL Lesson 8: Une brève note sur les NULL"
   ]
  },
  {
   "cell_type": "markdown",
   "metadata": {},
   "source": [
    "Comme promis dans la dernière leçon, nous allons parler rapidement des valeurs **NULL** dans une base de données SQL. Il est toujours bon de réduire la possibilité de valeurs NULL dans les bases de données car elles nécessitent une attention particulière lors de la construction de requêtes, de contraintes (certaines fonctions se comportent différemment avec des valeurs nulles) et lors du traitement des résultats."
   ]
  },
  {
   "cell_type": "markdown",
   "metadata": {},
   "source": [
    "Une alternative aux valeurs NULL dans votre base de données est d'avoir * des valeurs par défaut appropriées au type de données *, comme 0 pour les données numériques, des chaînes vides pour les données texte, etc. Mais si votre base de données a besoin de stocker des données incomplètes, les valeurs NULL peuvent être appropriées si les valeurs par défaut faussent l'analyse ultérieure (par exemple, lors de la prise de moyennes de données numériques)."
   ]
  },
  {
   "cell_type": "markdown",
   "metadata": {},
   "source": [
    "Parfois, il n'est pas non plus possible d'éviter les valeurs **NULL**, comme nous l'avons vu dans la dernière leçon lors de la jonction externe de deux tables avec des données asymétriques. Dans ces cas, vous pouvez tester une colonne pour les valeurs **NULL** d'une clause **WHERE** à l'aide de la contrainte **IS NULL** ou **IS NOT NULL.**\n",
    "\n"
   ]
  },
  {
   "cell_type": "markdown",
   "metadata": {},
   "source": [
    "Sélectionnez une requête avec des contraintes sur les valeurs NULL\n",
    "``` mysql \n",
    "SELECT column, another_column, …\n",
    "FROM mytable\n",
    "WHERE column IS/IS NOT NULL\n",
    "AND/OR another_condition\n",
    "AND/OR …;\n",
    "```"
   ]
  },
  {
   "cell_type": "markdown",
   "metadata": {},
   "source": [
    "## Exercice"
   ]
  },
  {
   "cell_type": "markdown",
   "metadata": {},
   "source": [
    "Cet exercice sera une sorte de revue des dernières leçons. Nous utilisons le même tableau **employes** et **batiments** de la dernière leçon, mais nous avons embauché quelques personnes supplémentaires, qui n'ont pas encore reçu de bâtiment."
   ]
  },
  {
   "cell_type": "code",
   "execution_count": 1,
   "metadata": {
    "ExecuteTime": {
     "end_time": "2021-01-18T15:42:41.178469Z",
     "start_time": "2021-01-18T15:42:40.415645Z"
    }
   },
   "outputs": [],
   "source": [
    "import pandas as pd\n",
    "\n",
    "def to_df(s):\n",
    "    l= [elt.split(';') for elt in s.replace(\"\t\", \";\").split('\\n')]\n",
    "    return pd.DataFrame(l[1:], columns=l[0])"
   ]
  },
  {
   "cell_type": "code",
   "execution_count": 2,
   "metadata": {
    "ExecuteTime": {
     "end_time": "2021-01-18T15:42:41.319952Z",
     "start_time": "2021-01-18T15:42:41.180049Z"
    }
   },
   "outputs": [
    {
     "ename": "ModuleNotFoundError",
     "evalue": "No module named 'pandasql'",
     "output_type": "error",
     "traceback": [
      "\u001b[0;31m---------------------------------------------------------------------------\u001b[0m",
      "\u001b[0;31mModuleNotFoundError\u001b[0m                       Traceback (most recent call last)",
      "\u001b[0;32m<ipython-input-2-7a2fdcc9b1e4>\u001b[0m in \u001b[0;36m<module>\u001b[0;34m\u001b[0m\n\u001b[0;32m----> 1\u001b[0;31m \u001b[0;32mfrom\u001b[0m \u001b[0mpandasql\u001b[0m \u001b[0;32mimport\u001b[0m \u001b[0msqldf\u001b[0m\u001b[0;34m\u001b[0m\u001b[0;34m\u001b[0m\u001b[0m\n\u001b[0m\u001b[1;32m      2\u001b[0m \u001b[0;32mimport\u001b[0m \u001b[0mnumpy\u001b[0m \u001b[0;32mas\u001b[0m \u001b[0mnp\u001b[0m\u001b[0;34m\u001b[0m\u001b[0;34m\u001b[0m\u001b[0m\n",
      "\u001b[0;31mModuleNotFoundError\u001b[0m: No module named 'pandasql'"
     ]
    }
   ],
   "source": [
    "from pandasql import sqldf\n",
    "import numpy as np"
   ]
  },
  {
   "cell_type": "code",
   "execution_count": null,
   "metadata": {
    "ExecuteTime": {
     "end_time": "2021-01-18T15:42:41.324683Z",
     "start_time": "2021-01-18T15:42:41.322618Z"
    }
   },
   "outputs": [],
   "source": [
    "x=\"\"\"Building_name\tCapacity\n",
    "1e\t24\n",
    "1w\t32\n",
    "2e\t16\n",
    "2w\t20\"\"\""
   ]
  },
  {
   "cell_type": "code",
   "execution_count": null,
   "metadata": {
    "ExecuteTime": {
     "end_time": "2021-01-18T15:42:41.331788Z",
     "start_time": "2021-01-18T15:42:41.326776Z"
    }
   },
   "outputs": [],
   "source": [
    "batiments=to_df(x)# buildings"
   ]
  },
  {
   "cell_type": "code",
   "execution_count": null,
   "metadata": {
    "ExecuteTime": {
     "end_time": "2021-01-18T15:42:42.580182Z",
     "start_time": "2021-01-18T15:42:42.565133Z"
    }
   },
   "outputs": [],
   "source": [
    "batiments"
   ]
  },
  {
   "cell_type": "code",
   "execution_count": null,
   "metadata": {
    "ExecuteTime": {
     "end_time": "2021-01-18T15:42:42.937799Z",
     "start_time": "2021-01-18T15:42:42.935651Z"
    }
   },
   "outputs": [],
   "source": [
    "y=\"\"\"Role\tName\tBuilding\tYears_employed\n",
    "Engineer\tBecky A.\t1e\t4\n",
    "Engineer\tDan B.\t\t2\n",
    "Engineer\tSharon F.\t\t6\n",
    "Engineer\tDan M.\t1e\t4\n",
    "Engineer\tMalcom S.\t1e\t1\n",
    "Artist\tTylar S.\t\t2\n",
    "Artist\tSherman D.\t2w\t8\n",
    "Artist\tJakob J.\t2w\t6\n",
    "Artist\tLillia A.\t2w\t7\n",
    "Artist\tBrandon J.\t2w\t7\n",
    "Manager\tScott K.\t1e\t9\n",
    "Manager\tShirlee M.\t1e\t3\n",
    "Manager\tDaria O.\t\t6\"\"\""
   ]
  },
  {
   "cell_type": "code",
   "execution_count": null,
   "metadata": {
    "ExecuteTime": {
     "end_time": "2021-01-18T15:42:43.763211Z",
     "start_time": "2021-01-18T15:42:43.760485Z"
    }
   },
   "outputs": [],
   "source": [
    "employes=to_df(y).replace(r'^\\s*$', np.nan, regex=True) #employees"
   ]
  },
  {
   "cell_type": "code",
   "execution_count": null,
   "metadata": {
    "ExecuteTime": {
     "end_time": "2021-01-18T15:42:48.286745Z",
     "start_time": "2021-01-18T15:42:48.273938Z"
    }
   },
   "outputs": [],
   "source": [
    "employes"
   ]
  },
  {
   "cell_type": "markdown",
   "metadata": {},
   "source": [
    "1. Trouvez le nom et le rôle de tous les employés qui n'ont pas été affectés à un bâtiment\n"
   ]
  },
  {
   "cell_type": "code",
   "execution_count": null,
   "metadata": {
    "ExecuteTime": {
     "end_time": "2021-01-18T14:28:09.886634Z",
     "start_time": "2021-01-18T14:28:09.883564Z"
    }
   },
   "outputs": [],
   "source": [
    "QUERY1 = \"SELECT Name,Role FROM employes WHERE Building IS NULL\""
   ]
  },
  {
   "cell_type": "code",
   "execution_count": null,
   "metadata": {
    "ExecuteTime": {
     "end_time": "2021-01-18T14:28:11.183492Z",
     "start_time": "2021-01-18T14:28:11.159723Z"
    }
   },
   "outputs": [],
   "source": [
    "sqldf(QUERY1)"
   ]
  },
  {
   "cell_type": "markdown",
   "metadata": {},
   "source": [
    "2. Trouvez les noms des bâtiments qui n'occupent aucun employé"
   ]
  },
  {
   "cell_type": "code",
   "execution_count": null,
   "metadata": {
    "ExecuteTime": {
     "end_time": "2021-01-18T14:28:09.886634Z",
     "start_time": "2021-01-18T14:28:09.883564Z"
    }
   },
   "outputs": [],
   "source": [
    "QUERY2 = \"\"\"\n",
    "SELECT Building_Name \n",
    "FROM batiments \n",
    "WHERE Building_name NOT IN (\n",
    "    SELECT DISTINCT Building from employes WHERE Building IS NOT NULL\n",
    ")\n",
    "\"\"\""
   ]
  },
  {
   "cell_type": "code",
   "execution_count": null,
   "metadata": {
    "ExecuteTime": {
     "end_time": "2021-01-18T14:28:11.183492Z",
     "start_time": "2021-01-18T14:28:11.159723Z"
    }
   },
   "outputs": [],
   "source": [
    "sqldf(QUERY2)"
   ]
  }
 ],
 "metadata": {
  "kernelspec": {
   "display_name": "Python 3",
   "language": "python",
   "name": "python3"
  },
  "language_info": {
   "codemirror_mode": {
    "name": "ipython",
    "version": 3
   },
   "file_extension": ".py",
   "mimetype": "text/x-python",
   "name": "python",
   "nbconvert_exporter": "python",
   "pygments_lexer": "ipython3",
   "version": "3.6.12"
  }
 },
 "nbformat": 4,
 "nbformat_minor": 1
}
