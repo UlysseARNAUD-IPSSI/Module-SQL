{
 "cells": [
  {
   "cell_type": "markdown",
   "metadata": {},
   "source": [
    "# Leçon SQL 11: Requêtes avec des agrégats (Pt. 2)"
   ]
  },
  {
   "cell_type": "markdown",
   "metadata": {},
   "source": [
    "Nos requêtes deviennent assez complexes, mais nous avons presque introduit toutes les parties importantes d'une requête SELECT. Une chose que vous avez peut-être remarqué est que si la clause GROUP BY est exécutée après la clause WHERE (qui filtre les lignes à grouper), comment filtrer exactement les lignes groupées?"
   ]
  },
  {
   "cell_type": "markdown",
   "metadata": {},
   "source": [
    "Heureusement, SQL nous permet de le faire en ajoutant une clause **HAVING** supplémentaire qui est utilisée spécifiquement avec la clause **GROUP BY** pour nous permettre de filtrer les lignes groupées de l'ensemble de résultats.\n",
    "\n"
   ]
  },
  {
   "cell_type": "markdown",
   "metadata": {},
   "source": [
    "Sélectionnez la requête avec la contrainte HAVING\n",
    "``` mysql \n",
    "SELECT group_by_column, AGG_FUNC(column_expression) AS aggregate_result_alias, …\n",
    "FROM mytable\n",
    "WHERE condition\n",
    "GROUP BY column\n",
    "HAVING group_condition;\n",
    "```"
   ]
  },
  {
   "cell_type": "markdown",
   "metadata": {},
   "source": [
    "Les contraintes de la clause **HAVING** sont écrites de la même manière que les contraintes de la clause **WHERE** et sont appliquées aux lignes groupées. \n",
    "\n",
    "Avec nos exemples, cela peut ne pas sembler être une construction particulièrement utile, mais si vous imaginez des données avec des millions de lignes avec des propriétés différentes, il est souvent nécessaire de pouvoir appliquer des contraintes supplémentaires pour donner rapidement un sens aux données."
   ]
  },
  {
   "cell_type": "markdown",
   "metadata": {},
   "source": [
    "**Le saviez-vous?** Si vous n'utilisez pas la clause `GROUP BY`, une simple clause` WHERE` suffira."
   ]
  },
  {
   "cell_type": "markdown",
   "metadata": {},
   "source": [
    "## Exercice"
   ]
  },
  {
   "cell_type": "markdown",
   "metadata": {},
   "source": [
    "Pour cet exercice, vous allez approfondir les données des **employes** du studio de cinéma. Pensez aux différentes clauses que vous souhaitez appliquer pour chaque tâche."
   ]
  },
  {
   "cell_type": "code",
   "execution_count": 1,
   "metadata": {
    "ExecuteTime": {
     "end_time": "2021-01-18T14:16:16.544114Z",
     "start_time": "2021-01-18T14:16:15.646671Z"
    }
   },
   "outputs": [],
   "source": [
    "import pandas as pd\n",
    "\n",
    "def to_df(s):\n",
    "    l= [elt.split(';') for elt in s.replace(\"\t\", \";\").split('\\n')]\n",
    "    return pd.DataFrame(l[1:], columns=l[0])"
   ]
  },
  {
   "cell_type": "code",
   "execution_count": 2,
   "metadata": {
    "ExecuteTime": {
     "end_time": "2021-01-18T14:27:09.744670Z",
     "start_time": "2021-01-18T14:27:09.595039Z"
    }
   },
   "outputs": [
    {
     "ename": "ModuleNotFoundError",
     "evalue": "No module named 'pandasql'",
     "output_type": "error",
     "traceback": [
      "\u001b[0;31m---------------------------------------------------------------------------\u001b[0m",
      "\u001b[0;31mModuleNotFoundError\u001b[0m                       Traceback (most recent call last)",
      "\u001b[0;32m<ipython-input-2-644a528c5370>\u001b[0m in \u001b[0;36m<module>\u001b[0;34m\u001b[0m\n\u001b[0;32m----> 1\u001b[0;31m \u001b[0;32mfrom\u001b[0m \u001b[0mpandasql\u001b[0m \u001b[0;32mimport\u001b[0m \u001b[0msqldf\u001b[0m\u001b[0;34m\u001b[0m\u001b[0;34m\u001b[0m\u001b[0m\n\u001b[0m",
      "\u001b[0;31mModuleNotFoundError\u001b[0m: No module named 'pandasql'"
     ]
    }
   ],
   "source": [
    "from pandasql import sqldf"
   ]
  },
  {
   "cell_type": "code",
   "execution_count": null,
   "metadata": {},
   "outputs": [],
   "source": [
    "x=\"\"\"Role\tName\tBuilding\tYears_employed\n",
    "Engineer\tBecky A.\t1e\t4\n",
    "Engineer\tDan B.\t1e\t2\n",
    "Engineer\tSharon F.\t1e\t6\n",
    "Engineer\tDan M.\t1e\t4\n",
    "Engineer\tMalcom S.\t1e\t1\n",
    "Artist\tTylar S.\t2w\t2\n",
    "Artist\tSherman D.\t2w\t8\n",
    "Artist\tJakob J.\t2w\t6\n",
    "Artist\tLillia A.\t2w\t7\n",
    "Artist\tBrandon J.\t2w\t7\n",
    "Manager\tScott K.\t1e\t9\n",
    "Manager\tShirlee M.\t1e\t3\n",
    "Manager\tDaria O.\t2w\t6\"\"\""
   ]
  },
  {
   "cell_type": "code",
   "execution_count": null,
   "metadata": {
    "scrolled": true
   },
   "outputs": [],
   "source": [
    "employes = to_df(x) #employees"
   ]
  },
  {
   "cell_type": "markdown",
   "metadata": {},
   "source": [
    "1. Trouvez le nombre d'artistes dans l'atelier (sans clause HAVING )\n"
   ]
  },
  {
   "cell_type": "code",
   "execution_count": null,
   "metadata": {
    "ExecuteTime": {
     "end_time": "2021-01-18T14:28:09.886634Z",
     "start_time": "2021-01-18T14:28:09.883564Z"
    }
   },
   "outputs": [],
   "source": [
    "QUERY1 = \"\"\"\n",
    "SELECT DISTINCT COUNT(Name) as 'Number of Employes' \n",
    "FROM employes\n",
    "\"\"\""
   ]
  },
  {
   "cell_type": "code",
   "execution_count": null,
   "metadata": {
    "ExecuteTime": {
     "end_time": "2021-01-18T14:28:11.183492Z",
     "start_time": "2021-01-18T14:28:11.159723Z"
    }
   },
   "outputs": [],
   "source": [
    "sqldf(QUERY1)"
   ]
  },
  {
   "cell_type": "markdown",
   "metadata": {},
   "source": [
    "2. Trouvez le nombre d'employés de chaque rôle dans le studio"
   ]
  },
  {
   "cell_type": "code",
   "execution_count": null,
   "metadata": {
    "ExecuteTime": {
     "end_time": "2021-01-18T14:28:09.886634Z",
     "start_time": "2021-01-18T14:28:09.883564Z"
    }
   },
   "outputs": [],
   "source": [
    "QUERY2 = \"SELECT DISTINCT Role, Count(Name) as 'Number of Employes' FROM employes GROUP BY Role\""
   ]
  },
  {
   "cell_type": "code",
   "execution_count": null,
   "metadata": {
    "ExecuteTime": {
     "end_time": "2021-01-18T14:28:11.183492Z",
     "start_time": "2021-01-18T14:28:11.159723Z"
    }
   },
   "outputs": [],
   "source": [
    "sqldf(QUERY2)"
   ]
  },
  {
   "cell_type": "markdown",
   "metadata": {},
   "source": [
    "3. Trouvez le nombre total d'années d'emploi de tous les ingénieurs"
   ]
  },
  {
   "cell_type": "code",
   "execution_count": null,
   "metadata": {
    "ExecuteTime": {
     "end_time": "2021-01-18T14:28:09.886634Z",
     "start_time": "2021-01-18T14:28:09.883564Z"
    }
   },
   "outputs": [],
   "source": [
    "QUERY3 = \"SELECT DISTINCT SUM(Years_employed) as 'Sum of Years employed' FROM employes WHERE Role = 'Engineer'\""
   ]
  },
  {
   "cell_type": "code",
   "execution_count": null,
   "metadata": {
    "ExecuteTime": {
     "end_time": "2021-01-18T14:28:11.183492Z",
     "start_time": "2021-01-18T14:28:11.159723Z"
    }
   },
   "outputs": [],
   "source": [
    "sqldf(QUERY3)"
   ]
  },
  {
   "cell_type": "code",
   "execution_count": null,
   "metadata": {},
   "outputs": [],
   "source": []
  }
 ],
 "metadata": {
  "kernelspec": {
   "display_name": "Python 3",
   "language": "python",
   "name": "python3"
  },
  "language_info": {
   "codemirror_mode": {
    "name": "ipython",
    "version": 3
   },
   "file_extension": ".py",
   "mimetype": "text/x-python",
   "name": "python",
   "nbconvert_exporter": "python",
   "pygments_lexer": "ipython3",
   "version": "3.6.12"
  }
 },
 "nbformat": 4,
 "nbformat_minor": 1
}
