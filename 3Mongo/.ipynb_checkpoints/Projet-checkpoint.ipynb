{
 "cells": [
  {
   "cell_type": "markdown",
   "id": "instrumental-cross",
   "metadata": {},
   "source": [
    "# Projet"
   ]
  },
  {
   "cell_type": "markdown",
   "id": "unique-fairy",
   "metadata": {},
   "source": [
    "On utlisera l'API de Github"
   ]
  },
  {
   "cell_type": "markdown",
   "id": "transsexual-moldova",
   "metadata": {},
   "source": [
    "Requetes utiles :\n",
    "- Recuperer les répertoires en top tendences sur github\n",
    "- Recuperer les X répertoires en tendences dans toutes les languages\n",
    "- Recuperer les collections awesome\n",
    "- Recuperer les X répertoires les plus \"starred\" pour chaque languages\n",
    "- Recuperer les X répertoires les plus \"starred\" pour une collection\n",
    "- Recuperer les collections contenant un mot\n",
    "- Recuperer les répertoires d'une personne\n",
    "- Recuperer les répertoires appartenant à une personne (pas fork)\n",
    "- Recuperer les répertoires forkés par une personne\n",
    "- Recuperer les personnes ayant forkés un répertoires\n",
    "- Recuperer les personnes ayant \"starred\" un repertoire\n",
    "\n",
    "- on ne gere pas les watchers, c'est un peu inutile comme fonctionnalité"
   ]
  }
 ],
 "metadata": {
  "kernelspec": {
   "display_name": "Python 3",
   "language": "python",
   "name": "python3"
  },
  "language_info": {
   "codemirror_mode": {
    "name": "ipython",
    "version": 3
   },
   "file_extension": ".py",
   "mimetype": "text/x-python",
   "name": "python",
   "nbconvert_exporter": "python",
   "pygments_lexer": "ipython3",
   "version": "3.6.12"
  }
 },
 "nbformat": 4,
 "nbformat_minor": 5
}
