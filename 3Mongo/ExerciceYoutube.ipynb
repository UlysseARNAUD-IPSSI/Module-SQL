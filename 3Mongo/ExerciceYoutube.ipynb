{
 "cells": [
  {
   "cell_type": "markdown",
   "metadata": {},
   "source": [
    "# Consignes\n",
    "\n",
    "Intégrer le fichier USvideos.csv qui représente un ensemble de 8000 vidéos Youtube. \n",
    "\n",
    "Merger le fichier US_category_id.json pour récupérer le nom des catégories. Il conviendra de bien spécifier l'ID du document.\n",
    "\n",
    "\n",
    "# Questions \n",
    "- 1) Récupérer toutes les vidéos de la chaîne Apple.\n",
    "- 2) Compter le nombre de catégories différentes\n",
    "- 3) Si vous ne l'avez pas déjà fait, découper les tags en listes et mettre à jour les tags de chacun des documents avec une requête update.\n",
    "- 4) Récupérer les vidéos les plus vues.\n",
    "- 5) Compter le nombre moyen de vues en fonction de la catégorie.\n",
    "- 6) Récupérer les chaines Youtube avec la plus grande moyenne de likes."
   ]
  },
  {
   "cell_type": "code",
   "execution_count": null,
   "metadata": {},
   "outputs": [],
   "source": [
    "import pandas as pd\n",
    "import pymongo"
   ]
  },
  {
   "cell_type": "code",
   "execution_count": null,
   "metadata": {},
   "outputs": [],
   "source": [
    "# client = pymongo.MongoClient()\n",
    "# database = client['exercices']\n",
    "# collection = database['youtube']"
   ]
  },
  {
   "cell_type": "code",
   "execution_count": null,
   "metadata": {},
   "outputs": [],
   "source": [
    "df_youtube = pd.read_csv(\"./data/USvideos.csv\")\n",
    "df_youtube.head(2)"
   ]
  },
  {
   "cell_type": "markdown",
   "metadata": {},
   "source": [
    "## Question 0"
   ]
  },
  {
   "cell_type": "markdown",
   "metadata": {},
   "source": [
    "### Nettoyer les données"
   ]
  },
  {
   "cell_type": "code",
   "execution_count": null,
   "metadata": {},
   "outputs": [],
   "source": [
    "df_youtube['date'] = pd.to_datetime(df_youtube['date'], errors='coerce')\n",
    "df_youtube = df_youtube.dropna(subset=['date'])\n",
    "\n",
    "df_youtube.rename(columns={'video_id':'_id'}, inplace=True)\n",
    "\n",
    "df_youtube = df_youtube.drop_duplicates(subset='_id', keep='last')\n",
    "\n",
    "l_d =df_youtube.to_dict(orient='records')\n",
    "\n",
    "import json\n",
    "with open('./data/US_category_id.json', 'r') as f:\n",
    "    categ = json.load(f)\n",
    "\n",
    "for video in l_d:\n",
    "    for cat in categ['items']:\n",
    "        if video['category_id'] == int(cat['id']):\n",
    "            video['category_name'] = cat['snippet']['title']"
   ]
  },
  {
   "cell_type": "markdown",
   "metadata": {
    "slideshow": {
     "slide_type": "slide"
    }
   },
   "source": [
    "### Importer les données"
   ]
  },
  {
   "cell_type": "code",
   "execution_count": null,
   "metadata": {},
   "outputs": [],
   "source": [
    "from pymongo import MongoClient\n",
    "\n",
    "client = MongoClient(\"mongo\")\n",
    "\n",
    "db_yt = client.yt\n",
    "\n",
    "collection_yt = db_yt['videos']\n",
    "\n",
    "collection_yt.delete_many({})\n",
    "\n",
    "collection_yt.insert_many(l_d)"
   ]
  },
  {
   "cell_type": "markdown",
   "metadata": {},
   "source": [
    "## Question 1  "
   ]
  },
  {
   "cell_type": "code",
   "execution_count": null,
   "metadata": {
    "scrolled": true
   },
   "outputs": [],
   "source": [
    "videosOfApple = collection_yt.find({\n",
    "    \"channel_title\": \"Apple\"\n",
    "})\n",
    "list(videosOfApple)"
   ]
  },
  {
   "cell_type": "markdown",
   "metadata": {},
   "source": [
    "## Question 2"
   ]
  },
  {
   "cell_type": "code",
   "execution_count": null,
   "metadata": {},
   "outputs": [],
   "source": [
    "numbersOfCategories = collection_yt.aggregate([\n",
    "    { \"$group\": { \"_id\": \"$category_id\"}  },\n",
    "    { \"$group\": { \"_id\": \"category_id\", \"count\": { \"$sum\": 1 } } } \n",
    "])\n",
    "list(numbersOfCategories)"
   ]
  },
  {
   "cell_type": "markdown",
   "metadata": {},
   "source": [
    "## Question 3"
   ]
  },
  {
   "cell_type": "code",
   "execution_count": null,
   "metadata": {},
   "outputs": [],
   "source": [
    "collection_yt.aggregate([\n",
    "    { \"$project\": {\n",
    "           \"tags\": {\"$split\":[\"$tags\", \"|\"]}\n",
    "       } }, \n",
    "    { \"$merge\": \"videos\" }\n",
    "]);\n"
   ]
  },
  {
   "cell_type": "markdown",
   "metadata": {},
   "source": [
    "## Question 4"
   ]
  },
  {
   "cell_type": "code",
   "execution_count": null,
   "metadata": {},
   "outputs": [],
   "source": [
    "numberOfVideos = 10\n",
    "mostViewedVideos = collection_yt.find().sort('views', pymongo.DESCENDING).limit(numberOfVideos)\n",
    "list(mostViewedVideos)"
   ]
  },
  {
   "cell_type": "markdown",
   "metadata": {},
   "source": [
    "## Question 5"
   ]
  },
  {
   "cell_type": "code",
   "execution_count": null,
   "metadata": {},
   "outputs": [],
   "source": [
    "averageViewsOfCategories = collection_yt.aggregate([{\n",
    "    '$group':{\n",
    "        '_id':\"$category_name\", \n",
    "        \"count\": {\"$sum\" : 1 },\n",
    "        \"average\": {\"$avg\": \"$views\"}\n",
    "    }\n",
    "}]);\n",
    "list(averageViewsOfCategories)"
   ]
  },
  {
   "cell_type": "markdown",
   "metadata": {},
   "source": [
    "## Question 6 "
   ]
  },
  {
   "cell_type": "code",
   "execution_count": null,
   "metadata": {},
   "outputs": [],
   "source": [
    "youtubeVideosWithGreatestAverageOfLikes = collection_yt.aggregate([{\n",
    "    '$group':{\n",
    "        '_id':\"$channel_title\",\n",
    "        'averageOfLikes': {\"$avg\": \"$likes\"}\n",
    "    }\n",
    "}, {\n",
    "    '$sort': {\n",
    "        'averageOfLikes': -1\n",
    "    }\n",
    "}]);\n",
    "list(youtubeVideosWithGreatestAverageOfLikes)"
   ]
  },
  {
   "cell_type": "code",
   "execution_count": null,
   "metadata": {},
   "outputs": [],
   "source": []
  }
 ],
 "metadata": {
  "kernelspec": {
   "display_name": "Python 3",
   "language": "python",
   "name": "python3"
  },
  "language_info": {
   "codemirror_mode": {
    "name": "ipython",
    "version": 3
   },
   "file_extension": ".py",
   "mimetype": "text/x-python",
   "name": "python",
   "nbconvert_exporter": "python",
   "pygments_lexer": "ipython3",
   "version": "3.6.12"
  }
 },
 "nbformat": 4,
 "nbformat_minor": 2
}
